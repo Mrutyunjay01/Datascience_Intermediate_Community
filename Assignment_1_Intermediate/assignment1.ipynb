{
 "cells": [
  {
   "cell_type": "markdown",
   "metadata": {},
   "source": [
    "<h2>Problem Defintion</h2>\n",
    "<p><i>\n",
    "    Chest pain is a body discomfort affecting a significant proportion of the population. The pain can be an early indicator of a fatal heart desiese, which can be restricted from progression if diagnosed in early stages. Intuition-based analysis of a patients diagnostic reports and health records in order to decide of it is due to a heart desiese or due to some other minor circumstances, has been the traditional way of approaching such cases of chest pain. There is a significant room for enhancing the accuracy, efficiency and reliablity of this process using a data-driven approach, which goes in-hand with the domain experts (Cardiologists).</i> "
   ]
  },
  {
   "cell_type": "markdown",
   "metadata": {},
   "source": [
    "<h2>Background</h2>\n",
    "<p><i>\n",
    "  When a patient with a chest pain visits the Cardiologist, factors such as their <b>age</b>, <b>sex</b>, <b> chest pain type</b>, <b>resting blood pressure</b>, <b>serum cholesterol</b>, <b>fasting blood sugar</b>, <b>resting electrocardiographic results </b>, <b>maximum heart rat</b>, etc alongwith some other important factors are taken into consideration in order to investigate the cause of the pain.\n",
    "</i></p> "
   ]
  },
  {
   "cell_type": "markdown",
   "metadata": {},
   "source": [
    "<h2>Unit of Analysis</h2>\n",
    "<p><i>\n",
    "The unit of analysis in our case is the diagnosis of the chest pain as a heart desiese.\n",
    "    </i></p>  "
   ]
  },
  {
   "cell_type": "markdown",
   "metadata": {},
   "source": [
    "<h2>Atteribute Information</h2>\n",
    "<p>\n",
    "The dataset contains 14 columns which are as follows - \n",
    "    <li><b>age</b> : age in years \n",
    "<li><b>sex</b> : (1 = male; 0 = female) \n",
    "<li><b>cp</b> : chest pain type \n",
    "    <li><b>trestbps</b> : resting blood pressure (in mm Hg on admission to the hospital) \n",
    "<li><b>chol</b> : serum cholesterol in mg/dl \n",
    "<li><b>fbs</b> : (fasting blood sugar > 120 mg/dl) (1 = true; 0 = false) \n",
    "<li><b>restecg</b> : resting electrocardiographic results \n",
    "<li><b>thalach</b> : maximum heart rate achieved \n",
    "<li><b>exang</b> : exercise induced angina (1 = yes; 0 = no) \n",
    "<li><b>oldpeak</b> : ST depression induced by exercise relative to rest \n",
    "<li><b>slope</b> : the slope of the peak exercise ST segment \n",
    "<li><b>ca</b> : number of major vessels (0-3) colored by fluoroscopy \n",
    "<li><b>thal</b> : 3 = normal; 6 = fixed defect; 7 = reversible defect \n",
    "<li><b>target</b> : 1 or 0 </p>  "
   ]
  },
  {
   "cell_type": "markdown",
   "metadata": {},
   "source": [
    "<b>Importing the required libraries</b>"
   ]
  },
  {
   "cell_type": "code",
   "execution_count": 1,
   "metadata": {},
   "outputs": [],
   "source": [
    "import numpy as np\n",
    "import pandas as pd\n",
    "import matplotlib.pyplot as plt\n",
    "%matplotlib inline\n",
    "import seaborn as sns\n",
    "import scipy.stats as stats\n",
    "import statsmodels.api as sm\n",
    "import warnings\n",
    "warnings.filterwarnings('ignore')\n",
    "pd.options.display.max_columns = None"
   ]
  },
  {
   "cell_type": "markdown",
   "metadata": {},
   "source": [
    "<b>Reading the dataset</b>"
   ]
  },
  {
   "cell_type": "code",
   "execution_count": 2,
   "metadata": {},
   "outputs": [],
   "source": [
    "df=pd.read_csv('Heart.csv')"
   ]
  },
  {
   "cell_type": "markdown",
   "metadata": {},
   "source": [
    "<b>Renaming some of the columns for better interpretablity</b>"
   ]
  },
  {
   "cell_type": "code",
   "execution_count": 3,
   "metadata": {},
   "outputs": [],
   "source": [
    "df=df.rename(columns={'cp':'pain_type', 'trestbps': 'rest_bp', 'fbs':'fast_bp', 'restecg':'test_ecg', 'thalach':'max_hr',\n",
    "       'exang ':'ex_angina', 'oldpeak':'st_depression', 'ca':'number_vessels', 'target':'heart_des'})"
   ]
  },
  {
   "cell_type": "markdown",
   "metadata": {},
   "source": [
    "<b>Checking a sample of the data</b>"
   ]
  },
  {
   "cell_type": "code",
   "execution_count": 4,
   "metadata": {},
   "outputs": [
    {
     "data": {
      "text/html": [
       "<div>\n",
       "<style scoped>\n",
       "    .dataframe tbody tr th:only-of-type {\n",
       "        vertical-align: middle;\n",
       "    }\n",
       "\n",
       "    .dataframe tbody tr th {\n",
       "        vertical-align: top;\n",
       "    }\n",
       "\n",
       "    .dataframe thead th {\n",
       "        text-align: right;\n",
       "    }\n",
       "</style>\n",
       "<table border=\"1\" class=\"dataframe\">\n",
       "  <thead>\n",
       "    <tr style=\"text-align: right;\">\n",
       "      <th></th>\n",
       "      <th>age</th>\n",
       "      <th>sex</th>\n",
       "      <th>pain_type</th>\n",
       "      <th>rest_bp</th>\n",
       "      <th>chol</th>\n",
       "      <th>fast_bp</th>\n",
       "      <th>test_ecg</th>\n",
       "      <th>max_hr</th>\n",
       "      <th>exang</th>\n",
       "      <th>st_depression</th>\n",
       "      <th>slope</th>\n",
       "      <th>number_vessels</th>\n",
       "      <th>thal</th>\n",
       "      <th>heart_des</th>\n",
       "    </tr>\n",
       "  </thead>\n",
       "  <tbody>\n",
       "    <tr>\n",
       "      <td>164</td>\n",
       "      <td>38</td>\n",
       "      <td>1</td>\n",
       "      <td>2</td>\n",
       "      <td>138</td>\n",
       "      <td>175</td>\n",
       "      <td>0</td>\n",
       "      <td>1</td>\n",
       "      <td>173</td>\n",
       "      <td>0</td>\n",
       "      <td>0.0</td>\n",
       "      <td>2</td>\n",
       "      <td>4</td>\n",
       "      <td>2</td>\n",
       "      <td>1</td>\n",
       "    </tr>\n",
       "    <tr>\n",
       "      <td>128</td>\n",
       "      <td>52</td>\n",
       "      <td>0</td>\n",
       "      <td>2</td>\n",
       "      <td>136</td>\n",
       "      <td>196</td>\n",
       "      <td>0</td>\n",
       "      <td>0</td>\n",
       "      <td>169</td>\n",
       "      <td>0</td>\n",
       "      <td>0.1</td>\n",
       "      <td>1</td>\n",
       "      <td>0</td>\n",
       "      <td>2</td>\n",
       "      <td>1</td>\n",
       "    </tr>\n",
       "    <tr>\n",
       "      <td>226</td>\n",
       "      <td>62</td>\n",
       "      <td>1</td>\n",
       "      <td>1</td>\n",
       "      <td>120</td>\n",
       "      <td>281</td>\n",
       "      <td>0</td>\n",
       "      <td>0</td>\n",
       "      <td>103</td>\n",
       "      <td>0</td>\n",
       "      <td>1.4</td>\n",
       "      <td>1</td>\n",
       "      <td>1</td>\n",
       "      <td>3</td>\n",
       "      <td>0</td>\n",
       "    </tr>\n",
       "    <tr>\n",
       "      <td>32</td>\n",
       "      <td>44</td>\n",
       "      <td>1</td>\n",
       "      <td>1</td>\n",
       "      <td>130</td>\n",
       "      <td>219</td>\n",
       "      <td>0</td>\n",
       "      <td>0</td>\n",
       "      <td>188</td>\n",
       "      <td>0</td>\n",
       "      <td>0.0</td>\n",
       "      <td>2</td>\n",
       "      <td>0</td>\n",
       "      <td>2</td>\n",
       "      <td>1</td>\n",
       "    </tr>\n",
       "    <tr>\n",
       "      <td>186</td>\n",
       "      <td>60</td>\n",
       "      <td>1</td>\n",
       "      <td>0</td>\n",
       "      <td>130</td>\n",
       "      <td>253</td>\n",
       "      <td>0</td>\n",
       "      <td>1</td>\n",
       "      <td>144</td>\n",
       "      <td>1</td>\n",
       "      <td>1.4</td>\n",
       "      <td>2</td>\n",
       "      <td>1</td>\n",
       "      <td>3</td>\n",
       "      <td>0</td>\n",
       "    </tr>\n",
       "  </tbody>\n",
       "</table>\n",
       "</div>"
      ],
      "text/plain": [
       "     age  sex  pain_type  rest_bp  chol  fast_bp  test_ecg  max_hr  exang  \\\n",
       "164   38    1          2      138   175        0         1     173      0   \n",
       "128   52    0          2      136   196        0         0     169      0   \n",
       "226   62    1          1      120   281        0         0     103      0   \n",
       "32    44    1          1      130   219        0         0     188      0   \n",
       "186   60    1          0      130   253        0         1     144      1   \n",
       "\n",
       "     st_depression  slope  number_vessels  thal  heart_des  \n",
       "164            0.0      2               4     2          1  \n",
       "128            0.1      1               0     2          1  \n",
       "226            1.4      1               1     3          0  \n",
       "32             0.0      2               0     2          1  \n",
       "186            1.4      2               1     3          0  "
      ]
     },
     "execution_count": 4,
     "metadata": {},
     "output_type": "execute_result"
    }
   ],
   "source": [
    "df.sample(5)"
   ]
  },
  {
   "cell_type": "markdown",
   "metadata": {},
   "source": [
    "<b>Checking for any missing (NaN) values</b>"
   ]
  },
  {
   "cell_type": "code",
   "execution_count": 5,
   "metadata": {},
   "outputs": [
    {
     "data": {
      "text/plain": [
       "age               0\n",
       "sex               0\n",
       "pain_type         0\n",
       "rest_bp           0\n",
       "chol              0\n",
       "fast_bp           0\n",
       "test_ecg          0\n",
       "max_hr            0\n",
       "exang             0\n",
       "st_depression     0\n",
       "slope             0\n",
       "number_vessels    0\n",
       "thal              0\n",
       "heart_des         0\n",
       "dtype: int64"
      ]
     },
     "execution_count": 5,
     "metadata": {},
     "output_type": "execute_result"
    }
   ],
   "source": [
    "df.isnull().sum()"
   ]
  },
  {
   "cell_type": "markdown",
   "metadata": {},
   "source": [
    "<i>Here, no missing values are present</b>"
   ]
  },
  {
   "cell_type": "markdown",
   "metadata": {},
   "source": [
    "<b>Checking for the data-types and the shape of the dataset</b>"
   ]
  },
  {
   "cell_type": "code",
   "execution_count": 6,
   "metadata": {},
   "outputs": [
    {
     "name": "stdout",
     "output_type": "stream",
     "text": [
      "<class 'pandas.core.frame.DataFrame'>\n",
      "RangeIndex: 303 entries, 0 to 302\n",
      "Data columns (total 14 columns):\n",
      "age               303 non-null int64\n",
      "sex               303 non-null int64\n",
      "pain_type         303 non-null int64\n",
      "rest_bp           303 non-null int64\n",
      "chol              303 non-null int64\n",
      "fast_bp           303 non-null int64\n",
      "test_ecg          303 non-null int64\n",
      "max_hr            303 non-null int64\n",
      "exang             303 non-null int64\n",
      "st_depression     303 non-null float64\n",
      "slope             303 non-null int64\n",
      "number_vessels    303 non-null int64\n",
      "thal              303 non-null int64\n",
      "heart_des         303 non-null int64\n",
      "dtypes: float64(1), int64(13)\n",
      "memory usage: 33.3 KB\n"
     ]
    }
   ],
   "source": [
    "df.info()"
   ]
  },
  {
   "cell_type": "markdown",
   "metadata": {},
   "source": [
    "<i>We have 302 rows and 14 columns. All the atteribures are either of integer or floar data-types. So we would no require any sort of data-transformation. Though we might require an encoding at the later stages</i>"
   ]
  },
  {
   "cell_type": "markdown",
   "metadata": {},
   "source": [
    "<h2>Questions and Solutions</h2>"
   ]
  },
  {
   "cell_type": "markdown",
   "metadata": {},
   "source": [
    "<b>1. How many are suffering from heart disease? Also plot the stats. </b>"
   ]
  },
  {
   "cell_type": "code",
   "execution_count": 7,
   "metadata": {},
   "outputs": [
    {
     "name": "stdout",
     "output_type": "stream",
     "text": [
      "\n",
      "The number of patients suffering from heart desiese is: 165 out of 303 which is 54.46 % of the total sample.\n",
      "\n"
     ]
    },
    {
     "data": {
      "image/png": "[encoded data removed]",
      "text/plain": [
       "<Figure size 432x288 with 1 Axes>"
      ]
     },
     "metadata": {
      "needs_background": "light"
     },
     "output_type": "display_data"
    }
   ],
   "source": [
    "print('')\n",
    "print('The number of patients suffering from heart desiese is:', df.heart_des.value_counts()[1],'out of',len(df.heart_des),'which is',np.round((df.heart_des.value_counts()[1]/len(df.heart_des))*100,decimals=2),'% of the total sample.')\n",
    "print('')\n",
    "sns.countplot(df.heart_des,palette='Reds')\n",
    "plt.xlabel('Heart Desiese')\n",
    "plt.ylabel('Count of patients')\n",
    "plt.show()"
   ]
  },
  {
   "cell_type": "markdown",
   "metadata": {},
   "source": [
    "<b>2. How many males and females have heart disease out of total?  </b>"
   ]
  },
  {
   "cell_type": "code",
   "execution_count": 8,
   "metadata": {},
   "outputs": [
    {
     "name": "stdout",
     "output_type": "stream",
     "text": [
      "\n",
      "Out of 165 patients having heart desiese 72 are females and 93 are males which implies 56.36 of the heart patients are males.\n",
      "\n"
     ]
    },
    {
     "data": {
      "image/png": "[encoded data removed]",
      "text/plain": [
       "<Figure size 432x288 with 1 Axes>"
      ]
     },
     "metadata": {
      "needs_background": "light"
     },
     "output_type": "display_data"
    }
   ],
   "source": [
    "print('')\n",
    "print('Out of',df.heart_des.value_counts()[1],'patients having heart desiese',df[df.sex==0].heart_des.value_counts()[1],'are females and',df[df.sex==1].heart_des.value_counts()[1],'are males which implies',np.round((df[df.sex==1].heart_des.value_counts()[1]/df.heart_des.value_counts()[1])*100,decimals=2),'of the heart patients are males.')\n",
    "print('')\n",
    "sns.countplot(df[df.heart_des==1].sex,palette='RdBu')\n",
    "plt.xlabel('Gender of patients')\n",
    "plt.ylabel('Count of patients')\n",
    "plt.show()"
   ]
  },
  {
   "cell_type": "markdown",
   "metadata": {},
   "source": [
    "<b>3. Visualize frequency distribution of the thalach (max heart rate) variable and find what's the heart rate and heart disease relation?   </b>"
   ]
  },
  {
   "cell_type": "code",
   "execution_count": 9,
   "metadata": {},
   "outputs": [
    {
     "data": {
      "image/png": "[encoded data removed]",
      "text/plain": [
       "<Figure size 432x288 with 1 Axes>"
      ]
     },
     "metadata": {
      "needs_background": "light"
     },
     "output_type": "display_data"
    }
   ],
   "source": [
    "sns.distplot(df.max_hr)\n",
    "plt.show()"
   ]
  },
  {
   "cell_type": "markdown",
   "metadata": {},
   "source": [
    "* $H_o:$ Data IS Normal\n",
    "* $H_a:$Data IS NOT Normal"
   ]
  },
  {
   "cell_type": "code",
   "execution_count": 10,
   "metadata": {},
   "outputs": [
    {
     "name": "stdout",
     "output_type": "stream",
     "text": [
      "Since the p-value, 0.0001 is less than 0.05, we reject the Null Hypothesis. Data is deviated from being normal.\n"
     ]
    }
   ],
   "source": [
    "t,p=stats.shapiro(df.max_hr)\n",
    "print('Since the p-value,',np.round(p,decimals=4),'is less than 0.05, we reject the Null Hypothesis. Data is deviated from being normal.')"
   ]
  },
  {
   "cell_type": "code",
   "execution_count": 11,
   "metadata": {},
   "outputs": [
    {
     "name": "stdout",
     "output_type": "stream",
     "text": [
      "The data is left-skewed with a Kurtosis of: -0.062\n"
     ]
    }
   ],
   "source": [
    "print('The data is left-skewed with a Kurtosis of:',np.round(df.max_hr.kurtosis(),decimals=4))"
   ]
  },
  {
   "cell_type": "code",
   "execution_count": 12,
   "metadata": {},
   "outputs": [
    {
     "name": "stdout",
     "output_type": "stream",
     "text": [
      "The pearson's correlation between heart desease and max heart rate is 0.4217\n"
     ]
    }
   ],
   "source": [
    "print(\"The pearson's correlation between heart desease and max heart rate is\", np.round(df.heart_des.corr(other=df.max_hr),decimals=4))"
   ]
  },
  {
   "cell_type": "markdown",
   "metadata": {},
   "source": [
    "<i>Since the heart desease and max heart rate are positively correlated, chances of Heart desiese increase with increase in heart rate.</i>\n",
    "\n",
    "<b><i>Hypothesis test of mean heart rate of patients with and without heart desiese</i></b>\n",
    "<p>\n",
    " <li>$H_0:\\mu_{HeartRateOfHeart Desiese}=\\mu_{HeartRateOfNo Heart Desiese}$\n",
    " <li>$H_0:\\mu_{HeartRateOfHeart Desiese}!=\\mu_{HeartRateOfNo Heart Desiese}$\n",
    "     \n",
    "<i>Forming two groups and testing for normality of both the groups.</i>\n",
    "</p>"
   ]
  },
  {
   "cell_type": "code",
   "execution_count": 13,
   "metadata": {},
   "outputs": [
    {
     "name": "stdout",
     "output_type": "stream",
     "text": [
      "The p-value for shapiro test of group 1 : 0.4253\n",
      "The p-value for shapiro test of group 1 : 0.0004\n"
     ]
    }
   ],
   "source": [
    "g1=df[df.heart_des==0]\n",
    "g2=df[df.heart_des==1]\n",
    "t1,p1=stats.shapiro(g1.max_hr)\n",
    "t2,p2=stats.shapiro(g2.max_hr)\n",
    "print('The p-value for shapiro test of group 1 :',np.round(p1,decimals=4))\n",
    "print('The p-value for shapiro test of group 1 :',np.round(p2,decimals=4))"
   ]
  },
  {
   "cell_type": "markdown",
   "metadata": {},
   "source": [
    "<i>Since for both the groups the p-value is less than 0.05, we reject the null and state that <b>Both the groups are NOT normal</b>.</i>\n",
    "\n",
    "<i>Now we perform <b>Mannwhitneyu Test</b> to find if the mean of both the group are the same or NOT</i>"
   ]
  },
  {
   "cell_type": "code",
   "execution_count": 14,
   "metadata": {},
   "outputs": [
    {
     "name": "stdout",
     "output_type": "stream",
     "text": [
      "The p-value for Mannwhitneyu test : 0.0179\n"
     ]
    }
   ],
   "source": [
    "t,p=stats.mannwhitneyu(g1.chol,g2.chol)\n",
    "print('The p-value for Mannwhitneyu test :',np.round(p,decimals=4))"
   ]
  },
  {
   "cell_type": "markdown",
   "metadata": {},
   "source": [
    "<i>Since the p-value is less than 0.05, we reject the null and state that <b>The mean heart rates of both the groups is NOT the same</b>.</i>\n",
    "\n",
    "<i>Now we perform <b>post-hoc analysis</b> to analyse the mean heart rates of both the groups</i>"
   ]
  },
  {
   "cell_type": "code",
   "execution_count": 15,
   "metadata": {},
   "outputs": [
    {
     "name": "stdout",
     "output_type": "stream",
     "text": [
      "The mean heart rate of patients without a heart desiese: 139.1\n",
      "The mean heart rate of patients with a heart desiese: 158.47\n"
     ]
    }
   ],
   "source": [
    "print('The mean heart rate of patients without a heart desiese:',np.round(g1.max_hr.mean(),decimals=2))\n",
    "print('The mean heart rate of patients with a heart desiese:',np.round(g2.max_hr.mean(),decimals=2))"
   ]
  },
  {
   "cell_type": "markdown",
   "metadata": {},
   "source": [
    "<i>Now, we interpret the model coefficients</i>"
   ]
  },
  {
   "cell_type": "code",
   "execution_count": 16,
   "metadata": {},
   "outputs": [
    {
     "name": "stdout",
     "output_type": "stream",
     "text": [
      "Optimization terminated successfully.\n",
      "         Current function value: 0.592833\n",
      "         Iterations 5\n",
      "                           Logit Regression Results                           \n",
      "==============================================================================\n",
      "Dep. Variable:              heart_des   No. Observations:                  303\n",
      "Model:                          Logit   Df Residuals:                      301\n",
      "Method:                           MLE   Df Model:                            1\n",
      "Date:                Thu, 27 Feb 2020   Pseudo R-squ.:                  0.1398\n",
      "Time:                        02:40:17   Log-Likelihood:                -179.63\n",
      "converged:                       True   LL-Null:                       -208.82\n",
      "Covariance Type:            nonrobust   LLR p-value:                 2.160e-14\n",
      "==============================================================================\n",
      "                 coef    std err          z      P>|z|      [0.025      0.975]\n",
      "------------------------------------------------------------------------------\n",
      "const         -6.3915      0.987     -6.475      0.000      -8.326      -4.457\n",
      "max_hr         0.0440      0.007      6.729      0.000       0.031       0.057\n",
      "==============================================================================\n"
     ]
    }
   ],
   "source": [
    "X=df.max_hr\n",
    "Y=df.heart_des\n",
    "XC=sm.add_constant(X)\n",
    "result=sm.Logit(Y,XC).fit()\n",
    "print(result.summary())"
   ]
  },
  {
   "cell_type": "markdown",
   "metadata": {},
   "source": [
    "<i>So, we can conclude that with an unit increase in max heart rate, there is a <b>4.4 %</b> increase in probablity of a heart desiese.</i>"
   ]
  },
  {
   "cell_type": "markdown",
   "metadata": {},
   "source": [
    "<b>4. Find correlation matrix for all the variables with target. </b>"
   ]
  },
  {
   "cell_type": "code",
   "execution_count": 17,
   "metadata": {},
   "outputs": [
    {
     "data": {
      "image/png": "[encoded data removed]",
      "text/plain": [
       "<Figure size 1152x108 with 2 Axes>"
      ]
     },
     "metadata": {},
     "output_type": "display_data"
    }
   ],
   "source": [
    "sns.set(rc={'figure.figsize':(16,1.5)})\n",
    "sns.heatmap(pd.DataFrame(pd.DataFrame(df.corr()).heart_des).T,annot=True, cmap='YlGnBu')\n",
    "plt.show()"
   ]
  },
  {
   "cell_type": "markdown",
   "metadata": {},
   "source": [
    "<b>5. Find Mean,Min & Max of age and plot its distribution. </b>"
   ]
  },
  {
   "cell_type": "code",
   "execution_count": 18,
   "metadata": {},
   "outputs": [
    {
     "data": {
      "image/png": "[encoded data removed]",
      "text/plain": [
       "<Figure size 864x86.4 with 2 Axes>"
      ]
     },
     "metadata": {},
     "output_type": "display_data"
    },
    {
     "name": "stdout",
     "output_type": "stream",
     "text": [
      "\n"
     ]
    },
    {
     "data": {
      "image/png": "[encoded data removed]",
      "text/plain": [
       "<Figure size 720x360 with 1 Axes>"
      ]
     },
     "metadata": {},
     "output_type": "display_data"
    }
   ],
   "source": [
    "sns.set(rc={'figure.figsize':(12,1.2)})\n",
    "sns.heatmap((pd.DataFrame(df.age.describe()).T)[['mean', 'min', 'max']], annot=True,  cmap='BuPu')\n",
    "plt.show()\n",
    "print('')\n",
    "sns.set(rc={'figure.figsize':(10,5)})\n",
    "sns.distplot(df.age, color='r')\n",
    "plt.show()"
   ]
  },
  {
   "cell_type": "markdown",
   "metadata": {},
   "source": [
    "<b>6. Age and its relation to heart disease. Are young people more prone to heart disease?  </b>"
   ]
  },
  {
   "cell_type": "code",
   "execution_count": 19,
   "metadata": {},
   "outputs": [
    {
     "name": "stdout",
     "output_type": "stream",
     "text": [
      "The pearson's correlation between heart desease and age is -0.2254\n"
     ]
    }
   ],
   "source": [
    "print(\"The pearson's correlation between heart desease and age is\", np.round(df.heart_des.corr(other=df.age),decimals=4))"
   ]
  },
  {
   "cell_type": "markdown",
   "metadata": {},
   "source": [
    "<i>Since the age and max heart rate are negatively correlated, chances of Heart desiese decrease with increase in age.</i>\n",
    "\n",
    "<b><i>Hypothesis test of mean age of patients with and without heart desiese</i></b>\n",
    "<p>\n",
    " <li>$H_0:\\mu_{AgeOfHeart Desiese}=\\mu_{AgeOfNo Heart Desiese}$\n",
    " <li>$H_0:\\mu_{AgeOfHeart Desiese}!=\\mu_{AgeOfNo Heart Desiese}$\n",
    "     \n",
    "<i>Forming two groups and testing for normality of both the groups.</i>\n",
    "</p>"
   ]
  },
  {
   "cell_type": "code",
   "execution_count": 20,
   "metadata": {},
   "outputs": [
    {
     "name": "stdout",
     "output_type": "stream",
     "text": [
      "The p-value for shapiro test of group 1 : 0.0029\n",
      "The p-value for shapiro test of group 1 : 0.1211\n"
     ]
    }
   ],
   "source": [
    "g1=df[df.heart_des==0]\n",
    "g2=df[df.heart_des==1]\n",
    "t1,p1=stats.shapiro(g1.age)\n",
    "t2,p2=stats.shapiro(g2.age)\n",
    "print('The p-value for shapiro test of group 1 :',np.round(p1,decimals=4))\n",
    "print('The p-value for shapiro test of group 1 :',np.round(p2,decimals=4))"
   ]
  },
  {
   "cell_type": "markdown",
   "metadata": {},
   "source": [
    "<i>Since for only the first group the p-value is less than 0.05, we reject the null and state that <b>One of the groups are NOT normal</b>.</i>\n",
    "\n",
    "<i>Now we perform <b>Mannwhitneyu Test</b> to find if the mean of both the group are the same or NOT</i>"
   ]
  },
  {
   "cell_type": "code",
   "execution_count": 21,
   "metadata": {},
   "outputs": [
    {
     "name": "stdout",
     "output_type": "stream",
     "text": [
      "The p-value for Mannwhitneyu test : 1.71926e-05\n"
     ]
    }
   ],
   "source": [
    "t,p=stats.mannwhitneyu(g1.age,g2.age)\n",
    "print('The p-value for Mannwhitneyu test :',np.round(p,decimals=10))"
   ]
  },
  {
   "cell_type": "markdown",
   "metadata": {},
   "source": [
    "<i>Since the p-value is less than 0.05, we reject the null and state that <b>The mean age of both the groups is NOT the same</b>.</i>\n",
    "\n",
    "<i>Now we perform <b>post-hoc analysis</b> to analyse the mean age of both the groups</i>"
   ]
  },
  {
   "cell_type": "code",
   "execution_count": 22,
   "metadata": {},
   "outputs": [
    {
     "name": "stdout",
     "output_type": "stream",
     "text": [
      "The mean age of patients without a heart desiese: 56.6\n",
      "The mean age of patients with a heart desiese: 52.5\n"
     ]
    }
   ],
   "source": [
    "print('The mean age of patients without a heart desiese:',np.round(g1.age.mean(),decimals=2))\n",
    "print('The mean age of patients with a heart desiese:',np.round(g2.age.mean(),decimals=2))"
   ]
  },
  {
   "cell_type": "markdown",
   "metadata": {},
   "source": [
    "<i>Now, we interpret the model coefficients</i>"
   ]
  },
  {
   "cell_type": "code",
   "execution_count": 23,
   "metadata": {},
   "outputs": [
    {
     "name": "stdout",
     "output_type": "stream",
     "text": [
      "Optimization terminated successfully.\n",
      "         Current function value: 0.663138\n",
      "         Iterations 5\n",
      "                           Logit Regression Results                           \n",
      "==============================================================================\n",
      "Dep. Variable:              heart_des   No. Observations:                  303\n",
      "Model:                          Logit   Df Residuals:                      301\n",
      "Method:                           MLE   Df Model:                            1\n",
      "Date:                Thu, 27 Feb 2020   Pseudo R-squ.:                 0.03778\n",
      "Time:                        02:40:19   Log-Likelihood:                -200.93\n",
      "converged:                       True   LL-Null:                       -208.82\n",
      "Covariance Type:            nonrobust   LLR p-value:                 7.128e-05\n",
      "==============================================================================\n",
      "                 coef    std err          z      P>|z|      [0.025      0.975]\n",
      "------------------------------------------------------------------------------\n",
      "const          3.0362      0.756      4.014      0.000       1.554       4.519\n",
      "age           -0.0524      0.014     -3.841      0.000      -0.079      -0.026\n",
      "==============================================================================\n"
     ]
    }
   ],
   "source": [
    "X=df.age\n",
    "Y=df.heart_des\n",
    "XC=sm.add_constant(X)\n",
    "result=sm.Logit(Y,XC).fit()\n",
    "print(result.summary())"
   ]
  },
  {
   "cell_type": "markdown",
   "metadata": {},
   "source": [
    "<i>So, we can conclude that with an unit increase in age, there is a <b>5.2 %</b> decrease in probablity of a heart desiese.</i>\n",
    "<i>Hence, Young people are more prone to heart desiese.</i>"
   ]
  },
  {
   "cell_type": "markdown",
   "metadata": {},
   "source": [
    "<b>7. Plot chest pain type pie chart.</b>"
   ]
  },
  {
   "cell_type": "code",
   "execution_count": 24,
   "metadata": {},
   "outputs": [
    {
     "data": {
      "image/png": "[encoded data removed]",
      "text/plain": [
       "<Figure size 720x360 with 1 Axes>"
      ]
     },
     "metadata": {},
     "output_type": "display_data"
    }
   ],
   "source": [
    "labels = 'Type-1', 'Type-2', 'Type-3', 'Type-4'\n",
    "counts = list(df.pain_type.value_counts().values)\n",
    "colors = ['orange', 'lightpink', 'lightcoral', 'red']\n",
    "explode = (0.1, 0, 0, 0)  # explode 1st slice\n",
    "plt.pie(counts, explode=explode, labels=labels, colors=colors,\n",
    "autopct='%1.1f%%', shadow=True, startangle=140)\n",
    "plt.axis('equal')\n",
    "plt.show()"
   ]
  },
  {
   "cell_type": "markdown",
   "metadata": {},
   "source": [
    "<b>8. What is the max heart rate achieved in non heart disease patients? \n",
    "</b>"
   ]
  },
  {
   "cell_type": "code",
   "execution_count": 25,
   "metadata": {},
   "outputs": [
    {
     "name": "stdout",
     "output_type": "stream",
     "text": [
      "The max heart rate achieved in non heart disease patients is : 195 bpm\n"
     ]
    }
   ],
   "source": [
    "print('The max heart rate achieved in non heart disease patients is :',max(df[df.heart_des==0].max_hr),'bpm')"
   ]
  },
  {
   "cell_type": "code",
   "execution_count": null,
   "metadata": {},
   "outputs": [],
   "source": []
  }
 ],
 "metadata": {
  "kernelspec": {
   "display_name": "Python 3",
   "language": "python",
   "name": "python3"
  },
  "language_info": {
   "codemirror_mode": {
    "name": "ipython",
    "version": 3
   },
   "file_extension": ".py",
   "mimetype": "text/x-python",
   "name": "python",
   "nbconvert_exporter": "python",
   "pygments_lexer": "ipython3",
   "version": "3.7.4"
  }
 },
 "nbformat": 4,
 "nbformat_minor": 2
}
